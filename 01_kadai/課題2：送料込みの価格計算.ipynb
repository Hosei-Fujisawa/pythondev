{
 "cells": [
  {
   "cell_type": "code",
   "execution_count": 14,
   "id": "41fff86f",
   "metadata": {},
   "outputs": [
    {
     "name": "stdout",
     "output_type": "stream",
     "text": [
      "税抜価格を入力してください： 2000\n",
      "送料は無料です\n",
      "送料込みの価格は2200円です。\n"
     ]
    }
   ],
   "source": [
    "notax = int(input(\"税抜価格を入力してください：\"))\n",
    "print(\"税抜価格を入力してください：\",notax) \n",
    "intax=int(notax*1.1)\n",
    "\n",
    "if intax >=2000:\n",
    "    print(\"送料は無料です\")\n",
    "    print(f\"送料込みの価格は{intax}円です。\")\n",
    "else:\n",
    "    print(\"送料として350円かかります\")\n",
    "    print(f\"送料込みの価格は{intax+350}円です。\")\n",
    "\n",
    "\n",
    "\n"
   ]
  },
  {
   "cell_type": "code",
   "execution_count": 13,
   "id": "7118f4dd",
   "metadata": {},
   "outputs": [
    {
     "name": "stdout",
     "output_type": "stream",
     "text": [
      "税抜価格を入力してください： 1800\n",
      "送料として350円かかります\n",
      "送料込みの価格は2330円です。\n"
     ]
    }
   ],
   "source": [
    "notax = int(input(\"税抜価格を入力してください：\"))\n",
    "print(\"税抜価格を入力してください：\",notax) \n",
    "intax=int(notax*1.1)\n",
    "\n",
    "if intax >=2000:\n",
    "    print(\"送料は無料です\")\n",
    "    print(f\"送料込みの価格は{intax}円です。\")\n",
    "else:\n",
    "    print(\"送料として350円かかります\")\n",
    "    print(f\"送料込みの価格は{intax+350}円です。\")"
   ]
  },
  {
   "cell_type": "code",
   "execution_count": null,
   "id": "16d07a06",
   "metadata": {},
   "outputs": [],
   "source": []
  }
 ],
 "metadata": {
  "kernelspec": {
   "display_name": ".venv",
   "language": "python",
   "name": "python3"
  },
  "language_info": {
   "codemirror_mode": {
    "name": "ipython",
    "version": 3
   },
   "file_extension": ".py",
   "mimetype": "text/x-python",
   "name": "python",
   "nbconvert_exporter": "python",
   "pygments_lexer": "ipython3",
   "version": "3.12.10"
  }
 },
 "nbformat": 4,
 "nbformat_minor": 5
}
