{
 "cells": [
  {
   "cell_type": "code",
   "execution_count": 15,
   "id": "22d19401",
   "metadata": {},
   "outputs": [
    {
     "name": "stdout",
     "output_type": "stream",
     "text": [
      "点数を入力してください： 100\n",
      "点数を入力してください： 80\n",
      "点数を入力してください： 60\n",
      "点数を入力してください： 20\n",
      "点数を入力してください： 15\n",
      "点数を入力してください： 10\n",
      "点数を入力してください： 0\n",
      "点数を入力してください： -1\n",
      "7人のテストの平均点は40.7点です\n"
     ]
    }
   ],
   "source": [
    "count = 0\n",
    "total = 0\n",
    "\n",
    "while True:\n",
    "    i = int(input(\"点数を入力してください：\"))\n",
    "    print(f\"点数を入力してください：\",i)\n",
    "\n",
    "    if i == -1:\n",
    "        break\n",
    "    total +=i\n",
    "    count +=1\n",
    "\n",
    "\n",
    "print(f\"{count}人のテストの平均点は{total/count:.1f}点です\")"
   ]
  },
  {
   "cell_type": "code",
   "execution_count": null,
   "id": "bbfac18c",
   "metadata": {},
   "outputs": [],
   "source": []
  }
 ],
 "metadata": {
  "kernelspec": {
   "display_name": ".venv",
   "language": "python",
   "name": "python3"
  },
  "language_info": {
   "codemirror_mode": {
    "name": "ipython",
    "version": 3
   },
   "file_extension": ".py",
   "mimetype": "text/x-python",
   "name": "python",
   "nbconvert_exporter": "python",
   "pygments_lexer": "ipython3",
   "version": "3.12.10"
  }
 },
 "nbformat": 4,
 "nbformat_minor": 5
}
